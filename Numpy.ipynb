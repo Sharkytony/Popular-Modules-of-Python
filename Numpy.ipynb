{
 "cells": [
  {
   "cell_type": "markdown",
   "id": "5c118c26",
   "metadata": {},
   "source": [
    "# -------------------------------------NUMPY---------------------------------------------------------------"
   ]
  },
  {
   "cell_type": "markdown",
   "id": "b25b4150",
   "metadata": {},
   "source": [
    "### Creating Numpy arrays"
   ]
  },
  {
   "cell_type": "code",
   "execution_count": 1,
   "id": "b07114b2",
   "metadata": {},
   "outputs": [
    {
     "name": "stdout",
     "output_type": "stream",
     "text": [
      "[[1 3 2]\n",
      " [4 5 6]\n",
      " [7 8 9]]\n"
     ]
    }
   ],
   "source": [
    "import numpy as np\n",
    "a = np.array([[1, 3, 2], [4,5, 6], [7, 8, 9]])\n",
    "print(a)"
   ]
  },
  {
   "cell_type": "markdown",
   "id": "a992f763",
   "metadata": {},
   "source": [
    "## Numpy arrays"
   ]
  },
  {
   "cell_type": "code",
   "execution_count": 2,
   "id": "73fa9f35",
   "metadata": {},
   "outputs": [
    {
     "name": "stdout",
     "output_type": "stream",
     "text": [
      "3\n"
     ]
    },
    {
     "data": {
      "text/plain": [
       "array([ 1,  4,  9, 16, 25, 36])"
      ]
     },
     "execution_count": 2,
     "metadata": {},
     "output_type": "execute_result"
    }
   ],
   "source": [
    "import math\n",
    "l = [1, 2, 3, 6, 5, 4]\n",
    "l.sort()\n",
    "print(len(l)//2)\n",
    "np.square(l)"
   ]
  },
  {
   "cell_type": "code",
   "execution_count": 3,
   "id": "310c5a96",
   "metadata": {},
   "outputs": [
    {
     "name": "stdout",
     "output_type": "stream",
     "text": [
      "[[1 2 3]\n",
      " [4 5 6]\n",
      " [7 8 9]]\n",
      "Dimensions :  2\n"
     ]
    }
   ],
   "source": [
    "import numpy as np \n",
    "a = np.array([[1, 2, 3], [4,5, 6], [7, 8, 9]])\n",
    "print(a)\n",
    "print('Dimensions : ', a.ndim)"
   ]
  },
  {
   "cell_type": "code",
   "execution_count": 4,
   "id": "e4c14221",
   "metadata": {},
   "outputs": [
    {
     "name": "stdout",
     "output_type": "stream",
     "text": [
      "Size of l in bytes :  168\n",
      "Size of a in bytes :  36\n",
      "32\n"
     ]
    }
   ],
   "source": [
    "import numpy as np\n",
    "import sys#sys module provides access to various system-specific parameters and functions.\n",
    "\n",
    "array = np.array([12, 23, 45, 56])\n",
    "list = [12, 23, 45, 56]\n",
    "print(f'Size of l in bytes : ',sys.getsizeof(1)*len(l)) # (same)size*1en(l)\n",
    "print(f'Size of a in bytes : ',a.size*a.itemsize) #no. of elements(size of array)* byte size of each element of the array\n",
    "\n",
    "a = np.array([12, 23, 45, 56], dtype='float64')\n",
    "print(a.size*a.itemsize) #difference between float bytesize and int bytesize"
   ]
  },
  {
   "cell_type": "code",
   "execution_count": 5,
   "id": "97196afa",
   "metadata": {},
   "outputs": [
    {
     "name": "stdout",
     "output_type": "stream",
     "text": [
      "[[10  9  8  7  6]\n",
      " [ 5  4  3  2  1]]\n",
      "[[ 5 10 15 20 25]\n",
      " [30 35 40 45 50]]\n"
     ]
    }
   ],
   "source": [
    "# preparing a 1d array from numpy\n",
    "import numpy as np\n",
    "\n",
    "a = np.array([(10, 9, 8, 7, 6),(5,4,3,2,1)])\n",
    "print(a)\n",
    "\n",
    "b = np.arange(5, 51, step=5)\n",
    "b = b.reshape((2, 5))\n",
    "print(b)"
   ]
  },
  {
   "cell_type": "code",
   "execution_count": 6,
   "id": "8b2e0041",
   "metadata": {
    "scrolled": true
   },
   "outputs": [
    {
     "name": "stdout",
     "output_type": "stream",
     "text": [
      "[[10  9  8  7  6]\n",
      " [ 5  4  3  2  1]\n",
      " [ 5 10 15 20 25]\n",
      " [30 35 40 45 50]]\n",
      "[[10  9  8  7  6  5 10 15 20 25]\n",
      " [ 5  4  3  2  1 30 35 40 45 50]]\n"
     ]
    }
   ],
   "source": [
    "c = np.vstack((a, b))\n",
    "print(c)\n",
    "d = np.hstack((a, b))\n",
    "print(d)"
   ]
  },
  {
   "cell_type": "code",
   "execution_count": 7,
   "id": "eb3ea591",
   "metadata": {},
   "outputs": [
    {
     "name": "stdout",
     "output_type": "stream",
     "text": [
      "[[1 2 3 4 5]\n",
      " [1 2 3 4 5]]\n",
      "[[ 1  2  3  4  5  6  7  8]\n",
      " [ 9 10 11 12 13 14 15 16]]\n"
     ]
    },
    {
     "data": {
      "text/plain": [
       "numpy.ndarray"
      ]
     },
     "execution_count": 7,
     "metadata": {},
     "output_type": "execute_result"
    }
   ],
   "source": [
    "# 2d array\n",
    "c = np.array([[1, 2, 3, 4, 5], [1, 2, 3, 4, 5]])\n",
    "print(c)\n",
    "\n",
    "d = np.arange(1,17).reshape(2, 8)\n",
    "print(d)\n",
    "type(d)"
   ]
  },
  {
   "cell_type": "code",
   "execution_count": 8,
   "id": "cc82fe37",
   "metadata": {},
   "outputs": [
    {
     "name": "stdout",
     "output_type": "stream",
     "text": [
      "[[0. 0.]\n",
      " [0. 0.]\n",
      " [0. 0.]]\n",
      "[[1. 1. 1. 1.]\n",
      " [1. 1. 1. 1.]\n",
      " [1. 1. 1. 1.]]\n"
     ]
    }
   ],
   "source": [
    "# arrays of zeros and ones , 3d array\n",
    "c = np.zeros((3, 2))\n",
    "print(c)\n",
    "c = np.ones((3, 4))\n",
    "print(c)"
   ]
  },
  {
   "cell_type": "markdown",
   "id": "12665f25",
   "metadata": {},
   "source": [
    "## adding arrays"
   ]
  },
  {
   "cell_type": "code",
   "execution_count": 9,
   "id": "f44047ab",
   "metadata": {
    "scrolled": true
   },
   "outputs": [
    {
     "name": "stdout",
     "output_type": "stream",
     "text": [
      "[10 10 10 10 10]\n",
      "[15 35]\n",
      "50\n"
     ]
    }
   ],
   "source": [
    "p = np.array([1, 2, 3, 4, 5])\n",
    "q = np.array([9, 8, 7, 6, 5])\n",
    "print(np.sum((p, q), axis=0))  # axis=0 if you want to add numbers in a column ,\n",
    "print(np.sum((p, q), axis=1))# axis = 1 if u want to sum the numbers inside the arrays and make it a single array\n",
    "print(np.sum((p, q)))# dont use axis if u want to sum all the numbers in the array"
   ]
  },
  {
   "cell_type": "markdown",
   "id": "7bf197be",
   "metadata": {},
   "source": [
    "## array slicing"
   ]
  },
  {
   "cell_type": "code",
   "execution_count": 10,
   "id": "f0c6aed7",
   "metadata": {},
   "outputs": [
    {
     "name": "stdout",
     "output_type": "stream",
     "text": [
      "[22 92 34 64 15]\n",
      "[64 92]\n",
      "[22 34 64 92]\n"
     ]
    }
   ],
   "source": [
    "a = np.array([22, 92, 34, 64, 15])\n",
    "print(a)\n",
    "print(a[np.argsort(a)[-2:]])\n",
    "print(a[np.argsort(a)[-4:]]) # input the position and get the value of the reqd position"
   ]
  },
  {
   "cell_type": "code",
   "execution_count": 11,
   "id": "5c8ccbf4",
   "metadata": {},
   "outputs": [
    {
     "data": {
      "text/plain": [
       "array([ 1.,  2.,  3.,  4.,  5.,  6.,  7.,  8.,  9., 10., 11., 12., 13.,\n",
       "       14., 15., 16., 17., 18., 19., 20., 21., 22., 23., 24., 25., 26.,\n",
       "       27., 28., 29., 30., 31., 32., 33., 34., 35., 36., 37., 38., 39.,\n",
       "       40., 41., 42., 43., 44., 45., 46., 47., 48., 49., 50.])"
      ]
     },
     "execution_count": 11,
     "metadata": {},
     "output_type": "execute_result"
    }
   ],
   "source": [
    "e = np.linspace(1, 50, 50)\n",
    "e"
   ]
  },
  {
   "cell_type": "markdown",
   "id": "9587d7c5",
   "metadata": {},
   "source": [
    "## changing values"
   ]
  },
  {
   "cell_type": "code",
   "execution_count": 12,
   "id": "b8c084b9",
   "metadata": {},
   "outputs": [
    {
     "data": {
      "text/plain": [
       "array([  1.,   2.,   3.,   4.,   5.,   6.,   7.,   8.,   9.,  10.,  11.,\n",
       "        12.,  13.,  14.,  15.,  16.,  17.,  18.,  19.,  20.,  21.,  22.,\n",
       "        23.,  24.,  25.,  26.,  27.,  28.,  29.,  30.,  31.,  32.,  33.,\n",
       "        34.,  35.,  36.,  37.,  38.,  39.,  40.,  41.,  42.,  43.,  44.,\n",
       "        45., 500.,  47.,  48.,  49.,  50.])"
      ]
     },
     "execution_count": 12,
     "metadata": {},
     "output_type": "execute_result"
    }
   ],
   "source": [
    "e[45:46]= 500\n",
    "e"
   ]
  },
  {
   "cell_type": "markdown",
   "id": "ac283680",
   "metadata": {},
   "source": [
    "## copying array"
   ]
  },
  {
   "cell_type": "code",
   "execution_count": 13,
   "id": "dca22d5f",
   "metadata": {},
   "outputs": [
    {
     "data": {
      "text/plain": [
       "array([  1.,   2.,   3.,   4.,   5.,   6.,   7.,   8.,   9.,  10.,  11.,\n",
       "        12.,  13.,  14.,  15.,  16.,  17.,  18.,  19.,  20.,  21.,  22.,\n",
       "        23.,  24.,  25.,  26.,  27.,  28.,  29.,  30.,  31.,  32.,  33.,\n",
       "        34.,  35.,  36.,  37.,  38.,  39.,  40.,  41.,  42.,  43.,  44.,\n",
       "        45., 500.,  47.,  48.,  49.,  10.])"
      ]
     },
     "execution_count": 13,
     "metadata": {},
     "output_type": "execute_result"
    }
   ],
   "source": [
    "f = e.copy()\n",
    "f[49:]=10\n",
    "f"
   ]
  },
  {
   "cell_type": "markdown",
   "id": "9867c14b",
   "metadata": {},
   "source": [
    "## bool values"
   ]
  },
  {
   "cell_type": "code",
   "execution_count": 14,
   "id": "b4797421",
   "metadata": {
    "scrolled": true
   },
   "outputs": [
    {
     "data": {
      "text/plain": [
       "array([ True,  True,  True,  True,  True,  True,  True,  True,  True,\n",
       "        True,  True,  True,  True,  True,  True,  True,  True,  True,\n",
       "        True,  True,  True,  True,  True,  True,  True,  True,  True,\n",
       "        True,  True,  True,  True,  True,  True,  True,  True,  True,\n",
       "        True,  True,  True,  True,  True,  True,  True,  True,  True,\n",
       "        True,  True,  True,  True, False])"
      ]
     },
     "execution_count": 14,
     "metadata": {},
     "output_type": "execute_result"
    }
   ],
   "source": [
    "f == e"
   ]
  },
  {
   "cell_type": "markdown",
   "id": "b5f30d14",
   "metadata": {},
   "source": [
    "## replacing all the even numbers in the array"
   ]
  },
  {
   "cell_type": "code",
   "execution_count": 15,
   "id": "b657d59f",
   "metadata": {},
   "outputs": [
    {
     "name": "stdout",
     "output_type": "stream",
     "text": [
      "[ 1 -1  3 -1  5 -1  7 -1  9 -1]\n"
     ]
    }
   ],
   "source": [
    "import numpy as np\n",
    "arr = np.arange(1, 11)\n",
    "\n",
    "arr[arr % 2 == 0] = -1\n",
    "#Here we are divinding each of arr values by 2 and checking if their remainder is equal to zero\n",
    "#if cond id true we place the val -1\n",
    "print(arr)"
   ]
  },
  {
   "cell_type": "markdown",
   "id": "e68c2afd",
   "metadata": {},
   "source": [
    "## extracting common element from two arrays"
   ]
  },
  {
   "cell_type": "code",
   "execution_count": 16,
   "id": "2090d7f6",
   "metadata": {},
   "outputs": [
    {
     "name": "stdout",
     "output_type": "stream",
     "text": [
      "[ 2  4 87]\n"
     ]
    }
   ],
   "source": [
    "import numpy as np\n",
    "a = np.array([1, 2, 3, 4, 5, 6, 7, 87, 9, 0])\n",
    "b = np.array([2, 4, 12, 34, 67, 87, 43, 21])\n",
    "\n",
    "print(np.intersect1d(a, b))"
   ]
  },
  {
   "cell_type": "markdown",
   "id": "bd96b493",
   "metadata": {},
   "source": [
    "## Pickling and unpickling"
   ]
  },
  {
   "cell_type": "code",
   "execution_count": 17,
   "id": "21a5c70f",
   "metadata": {},
   "outputs": [
    {
     "name": "stdout",
     "output_type": "stream",
     "text": [
      "PICKLE: b'\\x80\\x04\\x956\\x00\\x00\\x00\\x00\\x00\\x00\\x00]\\x94}\\x94(\\x8c\\x01a\\x94\\x8c\\x01A\\x94\\x8c\\x01b\\x94K\\x02\\x8c\\x01c\\x94G@\\x08\\x00\\x00\\x00\\x00\\x00\\x00\\x8c\\x01d\\x94G@\\x12\\x00\\x00\\x00\\x00\\x00\\x00\\x8c\\x01e\\x94K\\x05ua.'\n"
     ]
    }
   ],
   "source": [
    "#Pickling\n",
    "import pickle\n",
    " \n",
    "data = [ { 'a':'A', 'b':2, 'c':3.0, 'd':4.5,  'e':5} ]\n",
    "data_string = pickle.dumps(data)\n",
    "print ('PICKLE:', data_string )"
   ]
  },
  {
   "cell_type": "code",
   "execution_count": 18,
   "id": "c5fccab8",
   "metadata": {},
   "outputs": [
    {
     "name": "stdout",
     "output_type": "stream",
     "text": [
      "[{'a': 'A', 'b': 2, 'c': 3.0, 'd': 4.5, 'e': 5}]\n"
     ]
    }
   ],
   "source": [
    "#Unpickling\n",
    "data2 = pickle.loads(data_string)\n",
    "print(data2)"
   ]
  },
  {
   "cell_type": "code",
   "execution_count": null,
   "id": "22291e93",
   "metadata": {},
   "outputs": [],
   "source": []
  }
 ],
 "metadata": {
  "kernelspec": {
   "display_name": "Python 3 (ipykernel)",
   "language": "python",
   "name": "python3"
  },
  "language_info": {
   "codemirror_mode": {
    "name": "ipython",
    "version": 3
   },
   "file_extension": ".py",
   "mimetype": "text/x-python",
   "name": "python",
   "nbconvert_exporter": "python",
   "pygments_lexer": "ipython3",
   "version": "3.10.7"
  }
 },
 "nbformat": 4,
 "nbformat_minor": 5
}
